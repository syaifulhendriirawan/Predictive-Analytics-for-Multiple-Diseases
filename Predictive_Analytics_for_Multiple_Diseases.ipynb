{
  "metadata": {
    "kernelspec": {
      "language": "python",
      "display_name": "Python 3",
      "name": "python3"
    },
    "language_info": {
      "name": "python",
      "version": "3.10.13",
      "mimetype": "text/x-python",
      "codemirror_mode": {
        "name": "ipython",
        "version": 3
      },
      "pygments_lexer": "ipython3",
      "nbconvert_exporter": "python",
      "file_extension": ".py"
    },
    "kaggle": {
      "accelerator": "none",
      "dataSources": [
        {
          "sourceId": 7752217,
          "sourceType": "datasetVersion",
          "datasetId": 4532617
        }
      ],
      "dockerImageVersionId": 30664,
      "isInternetEnabled": true,
      "language": "python",
      "sourceType": "notebook",
      "isGpuEnabled": false
    },
    "colab": {
      "provenance": []
    }
  },
  "nbformat_minor": 0,
  "nbformat": 4,
  "cells": [
    {
      "cell_type": "markdown",
      "source": [
        "# **Data Loading**"
      ],
      "metadata": {
        "id": "3qCMtN2Klsmk"
      }
    },
    {
      "cell_type": "code",
      "source": [
        "from google.colab import drive\n",
        "drive.mount('/content/drive')"
      ],
      "metadata": {
        "colab": {
          "base_uri": "https://localhost:8080/"
        },
        "id": "9er1tkrIg8Qj",
        "outputId": "60513556-a92b-4341-911c-03fecaaaed70"
      },
      "execution_count": 1,
      "outputs": [
        {
          "output_type": "stream",
          "name": "stdout",
          "text": [
            "Drive already mounted at /content/drive; to attempt to forcibly remount, call drive.mount(\"/content/drive\", force_remount=True).\n"
          ]
        }
      ]
    },
    {
      "cell_type": "markdown",
      "source": [
        "### **Data set yang digunakan berasal dari Kaggle [Multiple Disease Prediction](https://www.kaggle.com/datasets/ehababoelnaga/multiple-disease-prediction/data)**"
      ],
      "metadata": {
        "id": "yu73z2EXolgb"
      }
    },
    {
      "cell_type": "code",
      "source": [
        "import zipfile\n",
        "import os\n",
        "\n",
        "zip_file_path = '/content/drive/MyDrive/Multiple Disease Prediction.zip'\n",
        "\n",
        "# Ekstrak isi file zip\n",
        "extract_dir = '/content/multiple-disease-prediction'\n",
        "with zipfile.ZipFile(zip_file_path, 'r') as zip_ref:\n",
        "    zip_ref.extractall(extract_dir)\n",
        "\n",
        "# List semua file yang diekstrak\n",
        "files = os.listdir(extract_dir)\n",
        "\n",
        "# Cetak daftar nama file\n",
        "for file_name in files:\n",
        "    print(file_name)\n"
      ],
      "metadata": {
        "colab": {
          "base_uri": "https://localhost:8080/"
        },
        "id": "_yZE2DyZkKSD",
        "outputId": "51fa0fa5-83ac-430b-f555-b9e788ec765b"
      },
      "execution_count": 2,
      "outputs": [
        {
          "output_type": "stream",
          "name": "stdout",
          "text": [
            "Blood_samples_dataset_balanced_2(f).csv\n",
            "blood_samples_dataset_test.csv\n"
          ]
        }
      ]
    },
    {
      "cell_type": "markdown",
      "source": [
        "# **Import Library**"
      ],
      "metadata": {
        "id": "hA4lbtmUlvz2"
      }
    },
    {
      "cell_type": "code",
      "source": [
        "import pandas as pd\n",
        "import numpy as np\n",
        "\n",
        "from sklearn.model_selection import train_test_split\n",
        "from sklearn.metrics import accuracy_score, precision_score, recall_score, f1_score\n",
        "\n",
        "from sklearn.linear_model import LogisticRegression\n",
        "from sklearn.ensemble import RandomForestClassifier\n",
        "from sklearn.svm import SVC"
      ],
      "metadata": {
        "execution": {
          "iopub.status.busy": "2024-03-19T03:52:42.761424Z",
          "iopub.execute_input": "2024-03-19T03:52:42.761727Z",
          "iopub.status.idle": "2024-03-19T03:52:43.550482Z",
          "shell.execute_reply.started": "2024-03-19T03:52:42.761702Z",
          "shell.execute_reply": "2024-03-19T03:52:43.549542Z"
        },
        "trusted": true,
        "id": "V2yipDovgQHp"
      },
      "execution_count": 3,
      "outputs": []
    },
    {
      "cell_type": "markdown",
      "source": [
        "# **Exploratory Data**"
      ],
      "metadata": {
        "id": "Ps7Slb4sgQHt"
      }
    },
    {
      "cell_type": "code",
      "source": [
        "df_train = pd.read_csv('/content/multiple-disease-prediction/Blood_samples_dataset_balanced_2(f).csv')\n",
        "df_test = pd.read_csv('/content/multiple-disease-prediction/blood_samples_dataset_test.csv')"
      ],
      "metadata": {
        "execution": {
          "iopub.status.busy": "2024-03-19T03:47:05.412841Z",
          "iopub.execute_input": "2024-03-19T03:47:05.413329Z",
          "iopub.status.idle": "2024-03-19T03:47:05.492504Z",
          "shell.execute_reply.started": "2024-03-19T03:47:05.413297Z",
          "shell.execute_reply": "2024-03-19T03:47:05.491821Z"
        },
        "trusted": true,
        "id": "TJ6hrg0ZgQHs"
      },
      "execution_count": 4,
      "outputs": []
    },
    {
      "cell_type": "markdown",
      "source": [
        "## **Train Data**"
      ],
      "metadata": {
        "id": "cj3Qi8IzgQHu"
      }
    },
    {
      "cell_type": "code",
      "source": [
        "df_train.head()"
      ],
      "metadata": {
        "execution": {
          "iopub.status.busy": "2024-03-19T03:53:41.966073Z",
          "iopub.execute_input": "2024-03-19T03:53:41.966390Z",
          "iopub.status.idle": "2024-03-19T03:53:41.988581Z",
          "shell.execute_reply.started": "2024-03-19T03:53:41.966364Z",
          "shell.execute_reply": "2024-03-19T03:53:41.987679Z"
        },
        "trusted": true,
        "id": "20hl7mjQgQHv",
        "outputId": "99ad31a9-fb41-48c9-95fb-d6aeb9b12132",
        "colab": {
          "base_uri": "https://localhost:8080/",
          "height": 308
        }
      },
      "execution_count": 5,
      "outputs": [
        {
          "output_type": "execute_result",
          "data": {
            "text/plain": [
              "    Glucose  Cholesterol  Hemoglobin  Platelets  White Blood Cells  \\\n",
              "0  0.739597     0.650198    0.713631   0.868491           0.687433   \n",
              "1  0.121786     0.023058    0.944893   0.905372           0.507711   \n",
              "2  0.452539     0.116135    0.544560   0.400640           0.294538   \n",
              "3  0.136609     0.015605    0.419957   0.191487           0.081168   \n",
              "4  0.176737     0.752220    0.971779   0.785286           0.443880   \n",
              "\n",
              "   Red Blood Cells  Hematocrit  Mean Corpuscular Volume  \\\n",
              "0         0.529895    0.290006                 0.631045   \n",
              "1         0.403033    0.164216                 0.307553   \n",
              "2         0.382021    0.625267                 0.295122   \n",
              "3         0.166214    0.073293                 0.668719   \n",
              "4         0.439851    0.894991                 0.442159   \n",
              "\n",
              "   Mean Corpuscular Hemoglobin  Mean Corpuscular Hemoglobin Concentration  \\\n",
              "0                     0.001328                                   0.795829   \n",
              "1                     0.207938                                   0.505562   \n",
              "2                     0.868369                                   0.026808   \n",
              "3                     0.125447                                   0.501051   \n",
              "4                     0.257288                                   0.805987   \n",
              "\n",
              "   ...     HbA1c  LDL Cholesterol  HDL Cholesterol       ALT       AST  \\\n",
              "0  ...  0.502665         0.215560         0.512941  0.064187  0.610827   \n",
              "1  ...  0.856810         0.652465         0.106961  0.942549  0.344261   \n",
              "2  ...  0.466795         0.387332         0.421763  0.007186  0.506918   \n",
              "3  ...  0.016256         0.040137         0.826721  0.265415  0.594148   \n",
              "4  ...  0.429431         0.146294         0.221574  0.015280  0.567115   \n",
              "\n",
              "   Heart Rate  Creatinine  Troponin  C-reactive Protein   Disease  \n",
              "0    0.939485    0.095512  0.465957            0.769230   Healthy  \n",
              "1    0.666368    0.659060  0.816982            0.401166  Diabetes  \n",
              "2    0.431704    0.417295  0.799074            0.779208  Thalasse  \n",
              "3    0.225756    0.490349  0.637061            0.354094    Anemia  \n",
              "4    0.841412    0.153350  0.794008            0.094970  Thalasse  \n",
              "\n",
              "[5 rows x 25 columns]"
            ],
            "text/html": [
              "\n",
              "  <div id=\"df-6154f70e-73fa-4f4e-9eb9-6303f591bbbb\" class=\"colab-df-container\">\n",
              "    <div>\n",
              "<style scoped>\n",
              "    .dataframe tbody tr th:only-of-type {\n",
              "        vertical-align: middle;\n",
              "    }\n",
              "\n",
              "    .dataframe tbody tr th {\n",
              "        vertical-align: top;\n",
              "    }\n",
              "\n",
              "    .dataframe thead th {\n",
              "        text-align: right;\n",
              "    }\n",
              "</style>\n",
              "<table border=\"1\" class=\"dataframe\">\n",
              "  <thead>\n",
              "    <tr style=\"text-align: right;\">\n",
              "      <th></th>\n",
              "      <th>Glucose</th>\n",
              "      <th>Cholesterol</th>\n",
              "      <th>Hemoglobin</th>\n",
              "      <th>Platelets</th>\n",
              "      <th>White Blood Cells</th>\n",
              "      <th>Red Blood Cells</th>\n",
              "      <th>Hematocrit</th>\n",
              "      <th>Mean Corpuscular Volume</th>\n",
              "      <th>Mean Corpuscular Hemoglobin</th>\n",
              "      <th>Mean Corpuscular Hemoglobin Concentration</th>\n",
              "      <th>...</th>\n",
              "      <th>HbA1c</th>\n",
              "      <th>LDL Cholesterol</th>\n",
              "      <th>HDL Cholesterol</th>\n",
              "      <th>ALT</th>\n",
              "      <th>AST</th>\n",
              "      <th>Heart Rate</th>\n",
              "      <th>Creatinine</th>\n",
              "      <th>Troponin</th>\n",
              "      <th>C-reactive Protein</th>\n",
              "      <th>Disease</th>\n",
              "    </tr>\n",
              "  </thead>\n",
              "  <tbody>\n",
              "    <tr>\n",
              "      <th>0</th>\n",
              "      <td>0.739597</td>\n",
              "      <td>0.650198</td>\n",
              "      <td>0.713631</td>\n",
              "      <td>0.868491</td>\n",
              "      <td>0.687433</td>\n",
              "      <td>0.529895</td>\n",
              "      <td>0.290006</td>\n",
              "      <td>0.631045</td>\n",
              "      <td>0.001328</td>\n",
              "      <td>0.795829</td>\n",
              "      <td>...</td>\n",
              "      <td>0.502665</td>\n",
              "      <td>0.215560</td>\n",
              "      <td>0.512941</td>\n",
              "      <td>0.064187</td>\n",
              "      <td>0.610827</td>\n",
              "      <td>0.939485</td>\n",
              "      <td>0.095512</td>\n",
              "      <td>0.465957</td>\n",
              "      <td>0.769230</td>\n",
              "      <td>Healthy</td>\n",
              "    </tr>\n",
              "    <tr>\n",
              "      <th>1</th>\n",
              "      <td>0.121786</td>\n",
              "      <td>0.023058</td>\n",
              "      <td>0.944893</td>\n",
              "      <td>0.905372</td>\n",
              "      <td>0.507711</td>\n",
              "      <td>0.403033</td>\n",
              "      <td>0.164216</td>\n",
              "      <td>0.307553</td>\n",
              "      <td>0.207938</td>\n",
              "      <td>0.505562</td>\n",
              "      <td>...</td>\n",
              "      <td>0.856810</td>\n",
              "      <td>0.652465</td>\n",
              "      <td>0.106961</td>\n",
              "      <td>0.942549</td>\n",
              "      <td>0.344261</td>\n",
              "      <td>0.666368</td>\n",
              "      <td>0.659060</td>\n",
              "      <td>0.816982</td>\n",
              "      <td>0.401166</td>\n",
              "      <td>Diabetes</td>\n",
              "    </tr>\n",
              "    <tr>\n",
              "      <th>2</th>\n",
              "      <td>0.452539</td>\n",
              "      <td>0.116135</td>\n",
              "      <td>0.544560</td>\n",
              "      <td>0.400640</td>\n",
              "      <td>0.294538</td>\n",
              "      <td>0.382021</td>\n",
              "      <td>0.625267</td>\n",
              "      <td>0.295122</td>\n",
              "      <td>0.868369</td>\n",
              "      <td>0.026808</td>\n",
              "      <td>...</td>\n",
              "      <td>0.466795</td>\n",
              "      <td>0.387332</td>\n",
              "      <td>0.421763</td>\n",
              "      <td>0.007186</td>\n",
              "      <td>0.506918</td>\n",
              "      <td>0.431704</td>\n",
              "      <td>0.417295</td>\n",
              "      <td>0.799074</td>\n",
              "      <td>0.779208</td>\n",
              "      <td>Thalasse</td>\n",
              "    </tr>\n",
              "    <tr>\n",
              "      <th>3</th>\n",
              "      <td>0.136609</td>\n",
              "      <td>0.015605</td>\n",
              "      <td>0.419957</td>\n",
              "      <td>0.191487</td>\n",
              "      <td>0.081168</td>\n",
              "      <td>0.166214</td>\n",
              "      <td>0.073293</td>\n",
              "      <td>0.668719</td>\n",
              "      <td>0.125447</td>\n",
              "      <td>0.501051</td>\n",
              "      <td>...</td>\n",
              "      <td>0.016256</td>\n",
              "      <td>0.040137</td>\n",
              "      <td>0.826721</td>\n",
              "      <td>0.265415</td>\n",
              "      <td>0.594148</td>\n",
              "      <td>0.225756</td>\n",
              "      <td>0.490349</td>\n",
              "      <td>0.637061</td>\n",
              "      <td>0.354094</td>\n",
              "      <td>Anemia</td>\n",
              "    </tr>\n",
              "    <tr>\n",
              "      <th>4</th>\n",
              "      <td>0.176737</td>\n",
              "      <td>0.752220</td>\n",
              "      <td>0.971779</td>\n",
              "      <td>0.785286</td>\n",
              "      <td>0.443880</td>\n",
              "      <td>0.439851</td>\n",
              "      <td>0.894991</td>\n",
              "      <td>0.442159</td>\n",
              "      <td>0.257288</td>\n",
              "      <td>0.805987</td>\n",
              "      <td>...</td>\n",
              "      <td>0.429431</td>\n",
              "      <td>0.146294</td>\n",
              "      <td>0.221574</td>\n",
              "      <td>0.015280</td>\n",
              "      <td>0.567115</td>\n",
              "      <td>0.841412</td>\n",
              "      <td>0.153350</td>\n",
              "      <td>0.794008</td>\n",
              "      <td>0.094970</td>\n",
              "      <td>Thalasse</td>\n",
              "    </tr>\n",
              "  </tbody>\n",
              "</table>\n",
              "<p>5 rows × 25 columns</p>\n",
              "</div>\n",
              "    <div class=\"colab-df-buttons\">\n",
              "\n",
              "  <div class=\"colab-df-container\">\n",
              "    <button class=\"colab-df-convert\" onclick=\"convertToInteractive('df-6154f70e-73fa-4f4e-9eb9-6303f591bbbb')\"\n",
              "            title=\"Convert this dataframe to an interactive table.\"\n",
              "            style=\"display:none;\">\n",
              "\n",
              "  <svg xmlns=\"http://www.w3.org/2000/svg\" height=\"24px\" viewBox=\"0 -960 960 960\">\n",
              "    <path d=\"M120-120v-720h720v720H120Zm60-500h600v-160H180v160Zm220 220h160v-160H400v160Zm0 220h160v-160H400v160ZM180-400h160v-160H180v160Zm440 0h160v-160H620v160ZM180-180h160v-160H180v160Zm440 0h160v-160H620v160Z\"/>\n",
              "  </svg>\n",
              "    </button>\n",
              "\n",
              "  <style>\n",
              "    .colab-df-container {\n",
              "      display:flex;\n",
              "      gap: 12px;\n",
              "    }\n",
              "\n",
              "    .colab-df-convert {\n",
              "      background-color: #E8F0FE;\n",
              "      border: none;\n",
              "      border-radius: 50%;\n",
              "      cursor: pointer;\n",
              "      display: none;\n",
              "      fill: #1967D2;\n",
              "      height: 32px;\n",
              "      padding: 0 0 0 0;\n",
              "      width: 32px;\n",
              "    }\n",
              "\n",
              "    .colab-df-convert:hover {\n",
              "      background-color: #E2EBFA;\n",
              "      box-shadow: 0px 1px 2px rgba(60, 64, 67, 0.3), 0px 1px 3px 1px rgba(60, 64, 67, 0.15);\n",
              "      fill: #174EA6;\n",
              "    }\n",
              "\n",
              "    .colab-df-buttons div {\n",
              "      margin-bottom: 4px;\n",
              "    }\n",
              "\n",
              "    [theme=dark] .colab-df-convert {\n",
              "      background-color: #3B4455;\n",
              "      fill: #D2E3FC;\n",
              "    }\n",
              "\n",
              "    [theme=dark] .colab-df-convert:hover {\n",
              "      background-color: #434B5C;\n",
              "      box-shadow: 0px 1px 3px 1px rgba(0, 0, 0, 0.15);\n",
              "      filter: drop-shadow(0px 1px 2px rgba(0, 0, 0, 0.3));\n",
              "      fill: #FFFFFF;\n",
              "    }\n",
              "  </style>\n",
              "\n",
              "    <script>\n",
              "      const buttonEl =\n",
              "        document.querySelector('#df-6154f70e-73fa-4f4e-9eb9-6303f591bbbb button.colab-df-convert');\n",
              "      buttonEl.style.display =\n",
              "        google.colab.kernel.accessAllowed ? 'block' : 'none';\n",
              "\n",
              "      async function convertToInteractive(key) {\n",
              "        const element = document.querySelector('#df-6154f70e-73fa-4f4e-9eb9-6303f591bbbb');\n",
              "        const dataTable =\n",
              "          await google.colab.kernel.invokeFunction('convertToInteractive',\n",
              "                                                    [key], {});\n",
              "        if (!dataTable) return;\n",
              "\n",
              "        const docLinkHtml = 'Like what you see? Visit the ' +\n",
              "          '<a target=\"_blank\" href=https://colab.research.google.com/notebooks/data_table.ipynb>data table notebook</a>'\n",
              "          + ' to learn more about interactive tables.';\n",
              "        element.innerHTML = '';\n",
              "        dataTable['output_type'] = 'display_data';\n",
              "        await google.colab.output.renderOutput(dataTable, element);\n",
              "        const docLink = document.createElement('div');\n",
              "        docLink.innerHTML = docLinkHtml;\n",
              "        element.appendChild(docLink);\n",
              "      }\n",
              "    </script>\n",
              "  </div>\n",
              "\n",
              "\n",
              "<div id=\"df-a0fa9931-f7d4-4581-b5ab-ef8fb2a84066\">\n",
              "  <button class=\"colab-df-quickchart\" onclick=\"quickchart('df-a0fa9931-f7d4-4581-b5ab-ef8fb2a84066')\"\n",
              "            title=\"Suggest charts\"\n",
              "            style=\"display:none;\">\n",
              "\n",
              "<svg xmlns=\"http://www.w3.org/2000/svg\" height=\"24px\"viewBox=\"0 0 24 24\"\n",
              "     width=\"24px\">\n",
              "    <g>\n",
              "        <path d=\"M19 3H5c-1.1 0-2 .9-2 2v14c0 1.1.9 2 2 2h14c1.1 0 2-.9 2-2V5c0-1.1-.9-2-2-2zM9 17H7v-7h2v7zm4 0h-2V7h2v10zm4 0h-2v-4h2v4z\"/>\n",
              "    </g>\n",
              "</svg>\n",
              "  </button>\n",
              "\n",
              "<style>\n",
              "  .colab-df-quickchart {\n",
              "      --bg-color: #E8F0FE;\n",
              "      --fill-color: #1967D2;\n",
              "      --hover-bg-color: #E2EBFA;\n",
              "      --hover-fill-color: #174EA6;\n",
              "      --disabled-fill-color: #AAA;\n",
              "      --disabled-bg-color: #DDD;\n",
              "  }\n",
              "\n",
              "  [theme=dark] .colab-df-quickchart {\n",
              "      --bg-color: #3B4455;\n",
              "      --fill-color: #D2E3FC;\n",
              "      --hover-bg-color: #434B5C;\n",
              "      --hover-fill-color: #FFFFFF;\n",
              "      --disabled-bg-color: #3B4455;\n",
              "      --disabled-fill-color: #666;\n",
              "  }\n",
              "\n",
              "  .colab-df-quickchart {\n",
              "    background-color: var(--bg-color);\n",
              "    border: none;\n",
              "    border-radius: 50%;\n",
              "    cursor: pointer;\n",
              "    display: none;\n",
              "    fill: var(--fill-color);\n",
              "    height: 32px;\n",
              "    padding: 0;\n",
              "    width: 32px;\n",
              "  }\n",
              "\n",
              "  .colab-df-quickchart:hover {\n",
              "    background-color: var(--hover-bg-color);\n",
              "    box-shadow: 0 1px 2px rgba(60, 64, 67, 0.3), 0 1px 3px 1px rgba(60, 64, 67, 0.15);\n",
              "    fill: var(--button-hover-fill-color);\n",
              "  }\n",
              "\n",
              "  .colab-df-quickchart-complete:disabled,\n",
              "  .colab-df-quickchart-complete:disabled:hover {\n",
              "    background-color: var(--disabled-bg-color);\n",
              "    fill: var(--disabled-fill-color);\n",
              "    box-shadow: none;\n",
              "  }\n",
              "\n",
              "  .colab-df-spinner {\n",
              "    border: 2px solid var(--fill-color);\n",
              "    border-color: transparent;\n",
              "    border-bottom-color: var(--fill-color);\n",
              "    animation:\n",
              "      spin 1s steps(1) infinite;\n",
              "  }\n",
              "\n",
              "  @keyframes spin {\n",
              "    0% {\n",
              "      border-color: transparent;\n",
              "      border-bottom-color: var(--fill-color);\n",
              "      border-left-color: var(--fill-color);\n",
              "    }\n",
              "    20% {\n",
              "      border-color: transparent;\n",
              "      border-left-color: var(--fill-color);\n",
              "      border-top-color: var(--fill-color);\n",
              "    }\n",
              "    30% {\n",
              "      border-color: transparent;\n",
              "      border-left-color: var(--fill-color);\n",
              "      border-top-color: var(--fill-color);\n",
              "      border-right-color: var(--fill-color);\n",
              "    }\n",
              "    40% {\n",
              "      border-color: transparent;\n",
              "      border-right-color: var(--fill-color);\n",
              "      border-top-color: var(--fill-color);\n",
              "    }\n",
              "    60% {\n",
              "      border-color: transparent;\n",
              "      border-right-color: var(--fill-color);\n",
              "    }\n",
              "    80% {\n",
              "      border-color: transparent;\n",
              "      border-right-color: var(--fill-color);\n",
              "      border-bottom-color: var(--fill-color);\n",
              "    }\n",
              "    90% {\n",
              "      border-color: transparent;\n",
              "      border-bottom-color: var(--fill-color);\n",
              "    }\n",
              "  }\n",
              "</style>\n",
              "\n",
              "  <script>\n",
              "    async function quickchart(key) {\n",
              "      const quickchartButtonEl =\n",
              "        document.querySelector('#' + key + ' button');\n",
              "      quickchartButtonEl.disabled = true;  // To prevent multiple clicks.\n",
              "      quickchartButtonEl.classList.add('colab-df-spinner');\n",
              "      try {\n",
              "        const charts = await google.colab.kernel.invokeFunction(\n",
              "            'suggestCharts', [key], {});\n",
              "      } catch (error) {\n",
              "        console.error('Error during call to suggestCharts:', error);\n",
              "      }\n",
              "      quickchartButtonEl.classList.remove('colab-df-spinner');\n",
              "      quickchartButtonEl.classList.add('colab-df-quickchart-complete');\n",
              "    }\n",
              "    (() => {\n",
              "      let quickchartButtonEl =\n",
              "        document.querySelector('#df-a0fa9931-f7d4-4581-b5ab-ef8fb2a84066 button');\n",
              "      quickchartButtonEl.style.display =\n",
              "        google.colab.kernel.accessAllowed ? 'block' : 'none';\n",
              "    })();\n",
              "  </script>\n",
              "</div>\n",
              "    </div>\n",
              "  </div>\n"
            ],
            "application/vnd.google.colaboratory.intrinsic+json": {
              "type": "dataframe",
              "variable_name": "df_train"
            }
          },
          "metadata": {},
          "execution_count": 5
        }
      ]
    },
    {
      "cell_type": "code",
      "source": [
        "df_train.info()"
      ],
      "metadata": {
        "execution": {
          "iopub.status.busy": "2024-03-19T03:47:31.549884Z",
          "iopub.execute_input": "2024-03-19T03:47:31.550183Z",
          "iopub.status.idle": "2024-03-19T03:47:31.574817Z",
          "shell.execute_reply.started": "2024-03-19T03:47:31.550162Z",
          "shell.execute_reply": "2024-03-19T03:47:31.573676Z"
        },
        "trusted": true,
        "id": "Dyu1O7F8gQHw",
        "outputId": "389677e6-c88d-4816-ebce-577590064468",
        "colab": {
          "base_uri": "https://localhost:8080/"
        }
      },
      "execution_count": 6,
      "outputs": [
        {
          "output_type": "stream",
          "name": "stdout",
          "text": [
            "<class 'pandas.core.frame.DataFrame'>\n",
            "RangeIndex: 2351 entries, 0 to 2350\n",
            "Data columns (total 25 columns):\n",
            " #   Column                                     Non-Null Count  Dtype  \n",
            "---  ------                                     --------------  -----  \n",
            " 0   Glucose                                    2351 non-null   float64\n",
            " 1   Cholesterol                                2351 non-null   float64\n",
            " 2   Hemoglobin                                 2351 non-null   float64\n",
            " 3   Platelets                                  2351 non-null   float64\n",
            " 4   White Blood Cells                          2351 non-null   float64\n",
            " 5   Red Blood Cells                            2351 non-null   float64\n",
            " 6   Hematocrit                                 2351 non-null   float64\n",
            " 7   Mean Corpuscular Volume                    2351 non-null   float64\n",
            " 8   Mean Corpuscular Hemoglobin                2351 non-null   float64\n",
            " 9   Mean Corpuscular Hemoglobin Concentration  2351 non-null   float64\n",
            " 10  Insulin                                    2351 non-null   float64\n",
            " 11  BMI                                        2351 non-null   float64\n",
            " 12  Systolic Blood Pressure                    2351 non-null   float64\n",
            " 13  Diastolic Blood Pressure                   2351 non-null   float64\n",
            " 14  Triglycerides                              2351 non-null   float64\n",
            " 15  HbA1c                                      2351 non-null   float64\n",
            " 16  LDL Cholesterol                            2351 non-null   float64\n",
            " 17  HDL Cholesterol                            2351 non-null   float64\n",
            " 18  ALT                                        2351 non-null   float64\n",
            " 19  AST                                        2351 non-null   float64\n",
            " 20  Heart Rate                                 2351 non-null   float64\n",
            " 21  Creatinine                                 2351 non-null   float64\n",
            " 22  Troponin                                   2351 non-null   float64\n",
            " 23  C-reactive Protein                         2351 non-null   float64\n",
            " 24  Disease                                    2351 non-null   object \n",
            "dtypes: float64(24), object(1)\n",
            "memory usage: 459.3+ KB\n"
          ]
        }
      ]
    },
    {
      "cell_type": "code",
      "source": [
        "df_train.isna().sum()"
      ],
      "metadata": {
        "execution": {
          "iopub.status.busy": "2024-03-19T03:59:50.289578Z",
          "iopub.execute_input": "2024-03-19T03:59:50.289907Z",
          "iopub.status.idle": "2024-03-19T03:59:50.299406Z",
          "shell.execute_reply.started": "2024-03-19T03:59:50.289884Z",
          "shell.execute_reply": "2024-03-19T03:59:50.298351Z"
        },
        "trusted": true,
        "id": "02cDk2B_gQHx",
        "outputId": "f8650851-c094-46ae-ea9a-604d22bef84f",
        "colab": {
          "base_uri": "https://localhost:8080/"
        }
      },
      "execution_count": 7,
      "outputs": [
        {
          "output_type": "execute_result",
          "data": {
            "text/plain": [
              "Glucose                                      0\n",
              "Cholesterol                                  0\n",
              "Hemoglobin                                   0\n",
              "Platelets                                    0\n",
              "White Blood Cells                            0\n",
              "Red Blood Cells                              0\n",
              "Hematocrit                                   0\n",
              "Mean Corpuscular Volume                      0\n",
              "Mean Corpuscular Hemoglobin                  0\n",
              "Mean Corpuscular Hemoglobin Concentration    0\n",
              "Insulin                                      0\n",
              "BMI                                          0\n",
              "Systolic Blood Pressure                      0\n",
              "Diastolic Blood Pressure                     0\n",
              "Triglycerides                                0\n",
              "HbA1c                                        0\n",
              "LDL Cholesterol                              0\n",
              "HDL Cholesterol                              0\n",
              "ALT                                          0\n",
              "AST                                          0\n",
              "Heart Rate                                   0\n",
              "Creatinine                                   0\n",
              "Troponin                                     0\n",
              "C-reactive Protein                           0\n",
              "Disease                                      0\n",
              "dtype: int64"
            ]
          },
          "metadata": {},
          "execution_count": 7
        }
      ]
    },
    {
      "cell_type": "markdown",
      "source": [
        "## **Test Data**"
      ],
      "metadata": {
        "id": "AZM1FnSngQH0"
      }
    },
    {
      "cell_type": "code",
      "source": [
        "df_test.head()"
      ],
      "metadata": {
        "execution": {
          "iopub.status.busy": "2024-03-19T03:54:13.660226Z",
          "iopub.execute_input": "2024-03-19T03:54:13.660520Z",
          "iopub.status.idle": "2024-03-19T03:54:13.680223Z",
          "shell.execute_reply.started": "2024-03-19T03:54:13.660499Z",
          "shell.execute_reply": "2024-03-19T03:54:13.679334Z"
        },
        "trusted": true,
        "id": "7H5z1Qc3gQH1",
        "outputId": "312aa39e-15d6-4f0d-c492-2296fe713559",
        "colab": {
          "base_uri": "https://localhost:8080/",
          "height": 308
        }
      },
      "execution_count": 8,
      "outputs": [
        {
          "output_type": "execute_result",
          "data": {
            "text/plain": [
              "    Glucose  Cholesterol  Hemoglobin  Platelets  White Blood Cells  \\\n",
              "0  0.001827     0.033693    0.114755   0.997927           0.562604   \n",
              "1  0.436679     0.972653    0.084998   0.180909           0.675736   \n",
              "2  0.545697     0.324815    0.584467   0.475748           0.558596   \n",
              "3  0.172994     0.050351    0.736000   0.782022           0.069435   \n",
              "4  0.758534     0.739968    0.597868   0.772683           0.875720   \n",
              "\n",
              "   Red Blood Cells  Hematocrit  Mean Corpuscular Volume  \\\n",
              "0         0.866499    0.578042                 0.914615   \n",
              "1         0.563889    0.798382                 0.670361   \n",
              "2         0.661007    0.934056                 0.381782   \n",
              "3         0.085219    0.032907                 0.460619   \n",
              "4         0.860265    0.486189                 0.486686   \n",
              "\n",
              "   Mean Corpuscular Hemoglobin  Mean Corpuscular Hemoglobin Concentration  \\\n",
              "0                     0.026864                                   0.038641   \n",
              "1                     0.376092                                   0.184890   \n",
              "2                     0.500342                                   0.531829   \n",
              "3                     0.785448                                   0.491495   \n",
              "4                     0.621048                                   0.191756   \n",
              "\n",
              "   ...     HbA1c  LDL Cholesterol  HDL Cholesterol       ALT       AST  \\\n",
              "0  ...  0.653230         0.186104         0.430398  0.016678  0.885352   \n",
              "1  ...  0.833540         0.153001         0.458533  0.401845  0.635969   \n",
              "2  ...  0.678901         0.220479         0.817151  0.690981  0.101633   \n",
              "3  ...  0.381500         0.459396         0.420154  0.798537  0.399236   \n",
              "4  ...  0.993381         0.272338         0.663579  0.265227  0.918847   \n",
              "\n",
              "   Heart Rate  Creatinine  Troponin  C-reactive Protein   Disease  \n",
              "0    0.652733    0.788235  0.054788            0.031313  Thalasse  \n",
              "1    0.574425    0.047025  0.607985            0.594123  Diabetes  \n",
              "2    0.855740    0.551124  0.413294            0.070909  Heart Di  \n",
              "3    0.324600    0.499504  0.436662            0.242766  Diabetes  \n",
              "4    0.804910    0.571119  0.188368            0.750848  Heart Di  \n",
              "\n",
              "[5 rows x 25 columns]"
            ],
            "text/html": [
              "\n",
              "  <div id=\"df-b5b00f9f-524a-4c3a-a460-17c18cae4bfd\" class=\"colab-df-container\">\n",
              "    <div>\n",
              "<style scoped>\n",
              "    .dataframe tbody tr th:only-of-type {\n",
              "        vertical-align: middle;\n",
              "    }\n",
              "\n",
              "    .dataframe tbody tr th {\n",
              "        vertical-align: top;\n",
              "    }\n",
              "\n",
              "    .dataframe thead th {\n",
              "        text-align: right;\n",
              "    }\n",
              "</style>\n",
              "<table border=\"1\" class=\"dataframe\">\n",
              "  <thead>\n",
              "    <tr style=\"text-align: right;\">\n",
              "      <th></th>\n",
              "      <th>Glucose</th>\n",
              "      <th>Cholesterol</th>\n",
              "      <th>Hemoglobin</th>\n",
              "      <th>Platelets</th>\n",
              "      <th>White Blood Cells</th>\n",
              "      <th>Red Blood Cells</th>\n",
              "      <th>Hematocrit</th>\n",
              "      <th>Mean Corpuscular Volume</th>\n",
              "      <th>Mean Corpuscular Hemoglobin</th>\n",
              "      <th>Mean Corpuscular Hemoglobin Concentration</th>\n",
              "      <th>...</th>\n",
              "      <th>HbA1c</th>\n",
              "      <th>LDL Cholesterol</th>\n",
              "      <th>HDL Cholesterol</th>\n",
              "      <th>ALT</th>\n",
              "      <th>AST</th>\n",
              "      <th>Heart Rate</th>\n",
              "      <th>Creatinine</th>\n",
              "      <th>Troponin</th>\n",
              "      <th>C-reactive Protein</th>\n",
              "      <th>Disease</th>\n",
              "    </tr>\n",
              "  </thead>\n",
              "  <tbody>\n",
              "    <tr>\n",
              "      <th>0</th>\n",
              "      <td>0.001827</td>\n",
              "      <td>0.033693</td>\n",
              "      <td>0.114755</td>\n",
              "      <td>0.997927</td>\n",
              "      <td>0.562604</td>\n",
              "      <td>0.866499</td>\n",
              "      <td>0.578042</td>\n",
              "      <td>0.914615</td>\n",
              "      <td>0.026864</td>\n",
              "      <td>0.038641</td>\n",
              "      <td>...</td>\n",
              "      <td>0.653230</td>\n",
              "      <td>0.186104</td>\n",
              "      <td>0.430398</td>\n",
              "      <td>0.016678</td>\n",
              "      <td>0.885352</td>\n",
              "      <td>0.652733</td>\n",
              "      <td>0.788235</td>\n",
              "      <td>0.054788</td>\n",
              "      <td>0.031313</td>\n",
              "      <td>Thalasse</td>\n",
              "    </tr>\n",
              "    <tr>\n",
              "      <th>1</th>\n",
              "      <td>0.436679</td>\n",
              "      <td>0.972653</td>\n",
              "      <td>0.084998</td>\n",
              "      <td>0.180909</td>\n",
              "      <td>0.675736</td>\n",
              "      <td>0.563889</td>\n",
              "      <td>0.798382</td>\n",
              "      <td>0.670361</td>\n",
              "      <td>0.376092</td>\n",
              "      <td>0.184890</td>\n",
              "      <td>...</td>\n",
              "      <td>0.833540</td>\n",
              "      <td>0.153001</td>\n",
              "      <td>0.458533</td>\n",
              "      <td>0.401845</td>\n",
              "      <td>0.635969</td>\n",
              "      <td>0.574425</td>\n",
              "      <td>0.047025</td>\n",
              "      <td>0.607985</td>\n",
              "      <td>0.594123</td>\n",
              "      <td>Diabetes</td>\n",
              "    </tr>\n",
              "    <tr>\n",
              "      <th>2</th>\n",
              "      <td>0.545697</td>\n",
              "      <td>0.324815</td>\n",
              "      <td>0.584467</td>\n",
              "      <td>0.475748</td>\n",
              "      <td>0.558596</td>\n",
              "      <td>0.661007</td>\n",
              "      <td>0.934056</td>\n",
              "      <td>0.381782</td>\n",
              "      <td>0.500342</td>\n",
              "      <td>0.531829</td>\n",
              "      <td>...</td>\n",
              "      <td>0.678901</td>\n",
              "      <td>0.220479</td>\n",
              "      <td>0.817151</td>\n",
              "      <td>0.690981</td>\n",
              "      <td>0.101633</td>\n",
              "      <td>0.855740</td>\n",
              "      <td>0.551124</td>\n",
              "      <td>0.413294</td>\n",
              "      <td>0.070909</td>\n",
              "      <td>Heart Di</td>\n",
              "    </tr>\n",
              "    <tr>\n",
              "      <th>3</th>\n",
              "      <td>0.172994</td>\n",
              "      <td>0.050351</td>\n",
              "      <td>0.736000</td>\n",
              "      <td>0.782022</td>\n",
              "      <td>0.069435</td>\n",
              "      <td>0.085219</td>\n",
              "      <td>0.032907</td>\n",
              "      <td>0.460619</td>\n",
              "      <td>0.785448</td>\n",
              "      <td>0.491495</td>\n",
              "      <td>...</td>\n",
              "      <td>0.381500</td>\n",
              "      <td>0.459396</td>\n",
              "      <td>0.420154</td>\n",
              "      <td>0.798537</td>\n",
              "      <td>0.399236</td>\n",
              "      <td>0.324600</td>\n",
              "      <td>0.499504</td>\n",
              "      <td>0.436662</td>\n",
              "      <td>0.242766</td>\n",
              "      <td>Diabetes</td>\n",
              "    </tr>\n",
              "    <tr>\n",
              "      <th>4</th>\n",
              "      <td>0.758534</td>\n",
              "      <td>0.739968</td>\n",
              "      <td>0.597868</td>\n",
              "      <td>0.772683</td>\n",
              "      <td>0.875720</td>\n",
              "      <td>0.860265</td>\n",
              "      <td>0.486189</td>\n",
              "      <td>0.486686</td>\n",
              "      <td>0.621048</td>\n",
              "      <td>0.191756</td>\n",
              "      <td>...</td>\n",
              "      <td>0.993381</td>\n",
              "      <td>0.272338</td>\n",
              "      <td>0.663579</td>\n",
              "      <td>0.265227</td>\n",
              "      <td>0.918847</td>\n",
              "      <td>0.804910</td>\n",
              "      <td>0.571119</td>\n",
              "      <td>0.188368</td>\n",
              "      <td>0.750848</td>\n",
              "      <td>Heart Di</td>\n",
              "    </tr>\n",
              "  </tbody>\n",
              "</table>\n",
              "<p>5 rows × 25 columns</p>\n",
              "</div>\n",
              "    <div class=\"colab-df-buttons\">\n",
              "\n",
              "  <div class=\"colab-df-container\">\n",
              "    <button class=\"colab-df-convert\" onclick=\"convertToInteractive('df-b5b00f9f-524a-4c3a-a460-17c18cae4bfd')\"\n",
              "            title=\"Convert this dataframe to an interactive table.\"\n",
              "            style=\"display:none;\">\n",
              "\n",
              "  <svg xmlns=\"http://www.w3.org/2000/svg\" height=\"24px\" viewBox=\"0 -960 960 960\">\n",
              "    <path d=\"M120-120v-720h720v720H120Zm60-500h600v-160H180v160Zm220 220h160v-160H400v160Zm0 220h160v-160H400v160ZM180-400h160v-160H180v160Zm440 0h160v-160H620v160ZM180-180h160v-160H180v160Zm440 0h160v-160H620v160Z\"/>\n",
              "  </svg>\n",
              "    </button>\n",
              "\n",
              "  <style>\n",
              "    .colab-df-container {\n",
              "      display:flex;\n",
              "      gap: 12px;\n",
              "    }\n",
              "\n",
              "    .colab-df-convert {\n",
              "      background-color: #E8F0FE;\n",
              "      border: none;\n",
              "      border-radius: 50%;\n",
              "      cursor: pointer;\n",
              "      display: none;\n",
              "      fill: #1967D2;\n",
              "      height: 32px;\n",
              "      padding: 0 0 0 0;\n",
              "      width: 32px;\n",
              "    }\n",
              "\n",
              "    .colab-df-convert:hover {\n",
              "      background-color: #E2EBFA;\n",
              "      box-shadow: 0px 1px 2px rgba(60, 64, 67, 0.3), 0px 1px 3px 1px rgba(60, 64, 67, 0.15);\n",
              "      fill: #174EA6;\n",
              "    }\n",
              "\n",
              "    .colab-df-buttons div {\n",
              "      margin-bottom: 4px;\n",
              "    }\n",
              "\n",
              "    [theme=dark] .colab-df-convert {\n",
              "      background-color: #3B4455;\n",
              "      fill: #D2E3FC;\n",
              "    }\n",
              "\n",
              "    [theme=dark] .colab-df-convert:hover {\n",
              "      background-color: #434B5C;\n",
              "      box-shadow: 0px 1px 3px 1px rgba(0, 0, 0, 0.15);\n",
              "      filter: drop-shadow(0px 1px 2px rgba(0, 0, 0, 0.3));\n",
              "      fill: #FFFFFF;\n",
              "    }\n",
              "  </style>\n",
              "\n",
              "    <script>\n",
              "      const buttonEl =\n",
              "        document.querySelector('#df-b5b00f9f-524a-4c3a-a460-17c18cae4bfd button.colab-df-convert');\n",
              "      buttonEl.style.display =\n",
              "        google.colab.kernel.accessAllowed ? 'block' : 'none';\n",
              "\n",
              "      async function convertToInteractive(key) {\n",
              "        const element = document.querySelector('#df-b5b00f9f-524a-4c3a-a460-17c18cae4bfd');\n",
              "        const dataTable =\n",
              "          await google.colab.kernel.invokeFunction('convertToInteractive',\n",
              "                                                    [key], {});\n",
              "        if (!dataTable) return;\n",
              "\n",
              "        const docLinkHtml = 'Like what you see? Visit the ' +\n",
              "          '<a target=\"_blank\" href=https://colab.research.google.com/notebooks/data_table.ipynb>data table notebook</a>'\n",
              "          + ' to learn more about interactive tables.';\n",
              "        element.innerHTML = '';\n",
              "        dataTable['output_type'] = 'display_data';\n",
              "        await google.colab.output.renderOutput(dataTable, element);\n",
              "        const docLink = document.createElement('div');\n",
              "        docLink.innerHTML = docLinkHtml;\n",
              "        element.appendChild(docLink);\n",
              "      }\n",
              "    </script>\n",
              "  </div>\n",
              "\n",
              "\n",
              "<div id=\"df-df644604-c83f-43f0-8575-504effeed19a\">\n",
              "  <button class=\"colab-df-quickchart\" onclick=\"quickchart('df-df644604-c83f-43f0-8575-504effeed19a')\"\n",
              "            title=\"Suggest charts\"\n",
              "            style=\"display:none;\">\n",
              "\n",
              "<svg xmlns=\"http://www.w3.org/2000/svg\" height=\"24px\"viewBox=\"0 0 24 24\"\n",
              "     width=\"24px\">\n",
              "    <g>\n",
              "        <path d=\"M19 3H5c-1.1 0-2 .9-2 2v14c0 1.1.9 2 2 2h14c1.1 0 2-.9 2-2V5c0-1.1-.9-2-2-2zM9 17H7v-7h2v7zm4 0h-2V7h2v10zm4 0h-2v-4h2v4z\"/>\n",
              "    </g>\n",
              "</svg>\n",
              "  </button>\n",
              "\n",
              "<style>\n",
              "  .colab-df-quickchart {\n",
              "      --bg-color: #E8F0FE;\n",
              "      --fill-color: #1967D2;\n",
              "      --hover-bg-color: #E2EBFA;\n",
              "      --hover-fill-color: #174EA6;\n",
              "      --disabled-fill-color: #AAA;\n",
              "      --disabled-bg-color: #DDD;\n",
              "  }\n",
              "\n",
              "  [theme=dark] .colab-df-quickchart {\n",
              "      --bg-color: #3B4455;\n",
              "      --fill-color: #D2E3FC;\n",
              "      --hover-bg-color: #434B5C;\n",
              "      --hover-fill-color: #FFFFFF;\n",
              "      --disabled-bg-color: #3B4455;\n",
              "      --disabled-fill-color: #666;\n",
              "  }\n",
              "\n",
              "  .colab-df-quickchart {\n",
              "    background-color: var(--bg-color);\n",
              "    border: none;\n",
              "    border-radius: 50%;\n",
              "    cursor: pointer;\n",
              "    display: none;\n",
              "    fill: var(--fill-color);\n",
              "    height: 32px;\n",
              "    padding: 0;\n",
              "    width: 32px;\n",
              "  }\n",
              "\n",
              "  .colab-df-quickchart:hover {\n",
              "    background-color: var(--hover-bg-color);\n",
              "    box-shadow: 0 1px 2px rgba(60, 64, 67, 0.3), 0 1px 3px 1px rgba(60, 64, 67, 0.15);\n",
              "    fill: var(--button-hover-fill-color);\n",
              "  }\n",
              "\n",
              "  .colab-df-quickchart-complete:disabled,\n",
              "  .colab-df-quickchart-complete:disabled:hover {\n",
              "    background-color: var(--disabled-bg-color);\n",
              "    fill: var(--disabled-fill-color);\n",
              "    box-shadow: none;\n",
              "  }\n",
              "\n",
              "  .colab-df-spinner {\n",
              "    border: 2px solid var(--fill-color);\n",
              "    border-color: transparent;\n",
              "    border-bottom-color: var(--fill-color);\n",
              "    animation:\n",
              "      spin 1s steps(1) infinite;\n",
              "  }\n",
              "\n",
              "  @keyframes spin {\n",
              "    0% {\n",
              "      border-color: transparent;\n",
              "      border-bottom-color: var(--fill-color);\n",
              "      border-left-color: var(--fill-color);\n",
              "    }\n",
              "    20% {\n",
              "      border-color: transparent;\n",
              "      border-left-color: var(--fill-color);\n",
              "      border-top-color: var(--fill-color);\n",
              "    }\n",
              "    30% {\n",
              "      border-color: transparent;\n",
              "      border-left-color: var(--fill-color);\n",
              "      border-top-color: var(--fill-color);\n",
              "      border-right-color: var(--fill-color);\n",
              "    }\n",
              "    40% {\n",
              "      border-color: transparent;\n",
              "      border-right-color: var(--fill-color);\n",
              "      border-top-color: var(--fill-color);\n",
              "    }\n",
              "    60% {\n",
              "      border-color: transparent;\n",
              "      border-right-color: var(--fill-color);\n",
              "    }\n",
              "    80% {\n",
              "      border-color: transparent;\n",
              "      border-right-color: var(--fill-color);\n",
              "      border-bottom-color: var(--fill-color);\n",
              "    }\n",
              "    90% {\n",
              "      border-color: transparent;\n",
              "      border-bottom-color: var(--fill-color);\n",
              "    }\n",
              "  }\n",
              "</style>\n",
              "\n",
              "  <script>\n",
              "    async function quickchart(key) {\n",
              "      const quickchartButtonEl =\n",
              "        document.querySelector('#' + key + ' button');\n",
              "      quickchartButtonEl.disabled = true;  // To prevent multiple clicks.\n",
              "      quickchartButtonEl.classList.add('colab-df-spinner');\n",
              "      try {\n",
              "        const charts = await google.colab.kernel.invokeFunction(\n",
              "            'suggestCharts', [key], {});\n",
              "      } catch (error) {\n",
              "        console.error('Error during call to suggestCharts:', error);\n",
              "      }\n",
              "      quickchartButtonEl.classList.remove('colab-df-spinner');\n",
              "      quickchartButtonEl.classList.add('colab-df-quickchart-complete');\n",
              "    }\n",
              "    (() => {\n",
              "      let quickchartButtonEl =\n",
              "        document.querySelector('#df-df644604-c83f-43f0-8575-504effeed19a button');\n",
              "      quickchartButtonEl.style.display =\n",
              "        google.colab.kernel.accessAllowed ? 'block' : 'none';\n",
              "    })();\n",
              "  </script>\n",
              "</div>\n",
              "    </div>\n",
              "  </div>\n"
            ],
            "application/vnd.google.colaboratory.intrinsic+json": {
              "type": "dataframe",
              "variable_name": "df_test"
            }
          },
          "metadata": {},
          "execution_count": 8
        }
      ]
    },
    {
      "cell_type": "code",
      "source": [
        "df_test.info()"
      ],
      "metadata": {
        "execution": {
          "iopub.status.busy": "2024-03-19T04:01:14.375678Z",
          "iopub.execute_input": "2024-03-19T04:01:14.376029Z",
          "iopub.status.idle": "2024-03-19T04:01:14.386291Z",
          "shell.execute_reply.started": "2024-03-19T04:01:14.376005Z",
          "shell.execute_reply": "2024-03-19T04:01:14.385239Z"
        },
        "trusted": true,
        "id": "VeFNr7utgQH2",
        "outputId": "8ee9714c-cd3d-42c4-e56d-d173121f6573",
        "colab": {
          "base_uri": "https://localhost:8080/"
        }
      },
      "execution_count": 9,
      "outputs": [
        {
          "output_type": "stream",
          "name": "stdout",
          "text": [
            "<class 'pandas.core.frame.DataFrame'>\n",
            "RangeIndex: 486 entries, 0 to 485\n",
            "Data columns (total 25 columns):\n",
            " #   Column                                     Non-Null Count  Dtype  \n",
            "---  ------                                     --------------  -----  \n",
            " 0   Glucose                                    486 non-null    float64\n",
            " 1   Cholesterol                                486 non-null    float64\n",
            " 2   Hemoglobin                                 486 non-null    float64\n",
            " 3   Platelets                                  486 non-null    float64\n",
            " 4   White Blood Cells                          486 non-null    float64\n",
            " 5   Red Blood Cells                            486 non-null    float64\n",
            " 6   Hematocrit                                 486 non-null    float64\n",
            " 7   Mean Corpuscular Volume                    486 non-null    float64\n",
            " 8   Mean Corpuscular Hemoglobin                486 non-null    float64\n",
            " 9   Mean Corpuscular Hemoglobin Concentration  486 non-null    float64\n",
            " 10  Insulin                                    486 non-null    float64\n",
            " 11  BMI                                        486 non-null    float64\n",
            " 12  Systolic Blood Pressure                    486 non-null    float64\n",
            " 13  Diastolic Blood Pressure                   486 non-null    float64\n",
            " 14  Triglycerides                              486 non-null    float64\n",
            " 15  HbA1c                                      486 non-null    float64\n",
            " 16  LDL Cholesterol                            486 non-null    float64\n",
            " 17  HDL Cholesterol                            486 non-null    float64\n",
            " 18  ALT                                        486 non-null    float64\n",
            " 19  AST                                        486 non-null    float64\n",
            " 20  Heart Rate                                 486 non-null    float64\n",
            " 21  Creatinine                                 486 non-null    float64\n",
            " 22  Troponin                                   486 non-null    float64\n",
            " 23  C-reactive Protein                         486 non-null    float64\n",
            " 24  Disease                                    486 non-null    object \n",
            "dtypes: float64(24), object(1)\n",
            "memory usage: 95.0+ KB\n"
          ]
        }
      ]
    },
    {
      "cell_type": "code",
      "source": [
        "df_test.isna().sum()"
      ],
      "metadata": {
        "execution": {
          "iopub.status.busy": "2024-03-19T04:01:39.637966Z",
          "iopub.execute_input": "2024-03-19T04:01:39.638278Z",
          "iopub.status.idle": "2024-03-19T04:01:39.645653Z",
          "shell.execute_reply.started": "2024-03-19T04:01:39.638255Z",
          "shell.execute_reply": "2024-03-19T04:01:39.644763Z"
        },
        "trusted": true,
        "id": "Ptni6AXVgQH2",
        "outputId": "9a8ddd65-bf12-4ee6-8549-519bc2da75b7",
        "colab": {
          "base_uri": "https://localhost:8080/"
        }
      },
      "execution_count": 10,
      "outputs": [
        {
          "output_type": "execute_result",
          "data": {
            "text/plain": [
              "Glucose                                      0\n",
              "Cholesterol                                  0\n",
              "Hemoglobin                                   0\n",
              "Platelets                                    0\n",
              "White Blood Cells                            0\n",
              "Red Blood Cells                              0\n",
              "Hematocrit                                   0\n",
              "Mean Corpuscular Volume                      0\n",
              "Mean Corpuscular Hemoglobin                  0\n",
              "Mean Corpuscular Hemoglobin Concentration    0\n",
              "Insulin                                      0\n",
              "BMI                                          0\n",
              "Systolic Blood Pressure                      0\n",
              "Diastolic Blood Pressure                     0\n",
              "Triglycerides                                0\n",
              "HbA1c                                        0\n",
              "LDL Cholesterol                              0\n",
              "HDL Cholesterol                              0\n",
              "ALT                                          0\n",
              "AST                                          0\n",
              "Heart Rate                                   0\n",
              "Creatinine                                   0\n",
              "Troponin                                     0\n",
              "C-reactive Protein                           0\n",
              "Disease                                      0\n",
              "dtype: int64"
            ]
          },
          "metadata": {},
          "execution_count": 10
        }
      ]
    },
    {
      "cell_type": "markdown",
      "source": [
        "# **Data Preparation**"
      ],
      "metadata": {
        "id": "CArR2GBygQH2"
      }
    },
    {
      "cell_type": "code",
      "source": [
        "# Menggabungkan dataset df_train dan df_test\n",
        "\n",
        "df = pd.concat([df_train, df_test], ignore_index=True)"
      ],
      "metadata": {
        "execution": {
          "iopub.status.busy": "2024-03-19T04:05:11.062633Z",
          "iopub.execute_input": "2024-03-19T04:05:11.062972Z",
          "iopub.status.idle": "2024-03-19T04:05:11.067886Z",
          "shell.execute_reply.started": "2024-03-19T04:05:11.062948Z",
          "shell.execute_reply": "2024-03-19T04:05:11.067018Z"
        },
        "trusted": true,
        "id": "XsW_CZSGgQH3"
      },
      "execution_count": 11,
      "outputs": []
    },
    {
      "cell_type": "code",
      "source": [
        "X = df.drop(columns=['Disease']) # berisi fitur-fitur dari data tanpa kolom 'Disease'\n",
        "y = df['Disease'] # berisi kolom 'Disease' sebagai target atau label yang akan diprediksi"
      ],
      "metadata": {
        "execution": {
          "iopub.status.busy": "2024-03-19T04:08:53.453023Z",
          "iopub.execute_input": "2024-03-19T04:08:53.453378Z",
          "iopub.status.idle": "2024-03-19T04:08:53.459063Z",
          "shell.execute_reply.started": "2024-03-19T04:08:53.453350Z",
          "shell.execute_reply": "2024-03-19T04:08:53.457827Z"
        },
        "trusted": true,
        "id": "A2cpbEAogQH3"
      },
      "execution_count": 12,
      "outputs": []
    },
    {
      "cell_type": "code",
      "source": [
        "# Membagi dataset menjadi data pelatihan dan test\n",
        "\n",
        "X_train, X_test, y_train, y_test = train_test_split(X, y, test_size=0.2, random_state=42, stratify=y)"
      ],
      "metadata": {
        "execution": {
          "iopub.status.busy": "2024-03-19T04:08:58.956816Z",
          "iopub.execute_input": "2024-03-19T04:08:58.957131Z",
          "iopub.status.idle": "2024-03-19T04:08:58.967884Z",
          "shell.execute_reply.started": "2024-03-19T04:08:58.957101Z",
          "shell.execute_reply": "2024-03-19T04:08:58.966486Z"
        },
        "trusted": true,
        "id": "xO5fJHC9gQH3"
      },
      "execution_count": 13,
      "outputs": []
    },
    {
      "cell_type": "markdown",
      "source": [
        "\n",
        "# **Model Development**"
      ],
      "metadata": {
        "id": "TULeEcH7gQH4"
      }
    },
    {
      "cell_type": "code",
      "source": [
        "# Model Logistic Regression\n",
        "\n",
        "lr_model = LogisticRegression()\n",
        "lr_model.fit(X_train, y_train)"
      ],
      "metadata": {
        "execution": {
          "iopub.status.busy": "2024-03-19T04:16:46.880031Z",
          "iopub.execute_input": "2024-03-19T04:16:46.880357Z",
          "iopub.status.idle": "2024-03-19T04:16:46.965081Z",
          "shell.execute_reply.started": "2024-03-19T04:16:46.880334Z",
          "shell.execute_reply": "2024-03-19T04:16:46.964249Z"
        },
        "trusted": true,
        "id": "Yn5n69yvgQH4",
        "outputId": "3aaa6e02-a6b6-4f6a-b92b-9b60a59451e2",
        "colab": {
          "base_uri": "https://localhost:8080/",
          "height": 218
        }
      },
      "execution_count": 14,
      "outputs": [
        {
          "output_type": "stream",
          "name": "stderr",
          "text": [
            "/usr/local/lib/python3.10/dist-packages/sklearn/linear_model/_logistic.py:458: ConvergenceWarning: lbfgs failed to converge (status=1):\n",
            "STOP: TOTAL NO. of ITERATIONS REACHED LIMIT.\n",
            "\n",
            "Increase the number of iterations (max_iter) or scale the data as shown in:\n",
            "    https://scikit-learn.org/stable/modules/preprocessing.html\n",
            "Please also refer to the documentation for alternative solver options:\n",
            "    https://scikit-learn.org/stable/modules/linear_model.html#logistic-regression\n",
            "  n_iter_i = _check_optimize_result(\n"
          ]
        },
        {
          "output_type": "execute_result",
          "data": {
            "text/plain": [
              "LogisticRegression()"
            ],
            "text/html": [
              "<style>#sk-container-id-1 {color: black;background-color: white;}#sk-container-id-1 pre{padding: 0;}#sk-container-id-1 div.sk-toggleable {background-color: white;}#sk-container-id-1 label.sk-toggleable__label {cursor: pointer;display: block;width: 100%;margin-bottom: 0;padding: 0.3em;box-sizing: border-box;text-align: center;}#sk-container-id-1 label.sk-toggleable__label-arrow:before {content: \"▸\";float: left;margin-right: 0.25em;color: #696969;}#sk-container-id-1 label.sk-toggleable__label-arrow:hover:before {color: black;}#sk-container-id-1 div.sk-estimator:hover label.sk-toggleable__label-arrow:before {color: black;}#sk-container-id-1 div.sk-toggleable__content {max-height: 0;max-width: 0;overflow: hidden;text-align: left;background-color: #f0f8ff;}#sk-container-id-1 div.sk-toggleable__content pre {margin: 0.2em;color: black;border-radius: 0.25em;background-color: #f0f8ff;}#sk-container-id-1 input.sk-toggleable__control:checked~div.sk-toggleable__content {max-height: 200px;max-width: 100%;overflow: auto;}#sk-container-id-1 input.sk-toggleable__control:checked~label.sk-toggleable__label-arrow:before {content: \"▾\";}#sk-container-id-1 div.sk-estimator input.sk-toggleable__control:checked~label.sk-toggleable__label {background-color: #d4ebff;}#sk-container-id-1 div.sk-label input.sk-toggleable__control:checked~label.sk-toggleable__label {background-color: #d4ebff;}#sk-container-id-1 input.sk-hidden--visually {border: 0;clip: rect(1px 1px 1px 1px);clip: rect(1px, 1px, 1px, 1px);height: 1px;margin: -1px;overflow: hidden;padding: 0;position: absolute;width: 1px;}#sk-container-id-1 div.sk-estimator {font-family: monospace;background-color: #f0f8ff;border: 1px dotted black;border-radius: 0.25em;box-sizing: border-box;margin-bottom: 0.5em;}#sk-container-id-1 div.sk-estimator:hover {background-color: #d4ebff;}#sk-container-id-1 div.sk-parallel-item::after {content: \"\";width: 100%;border-bottom: 1px solid gray;flex-grow: 1;}#sk-container-id-1 div.sk-label:hover label.sk-toggleable__label {background-color: #d4ebff;}#sk-container-id-1 div.sk-serial::before {content: \"\";position: absolute;border-left: 1px solid gray;box-sizing: border-box;top: 0;bottom: 0;left: 50%;z-index: 0;}#sk-container-id-1 div.sk-serial {display: flex;flex-direction: column;align-items: center;background-color: white;padding-right: 0.2em;padding-left: 0.2em;position: relative;}#sk-container-id-1 div.sk-item {position: relative;z-index: 1;}#sk-container-id-1 div.sk-parallel {display: flex;align-items: stretch;justify-content: center;background-color: white;position: relative;}#sk-container-id-1 div.sk-item::before, #sk-container-id-1 div.sk-parallel-item::before {content: \"\";position: absolute;border-left: 1px solid gray;box-sizing: border-box;top: 0;bottom: 0;left: 50%;z-index: -1;}#sk-container-id-1 div.sk-parallel-item {display: flex;flex-direction: column;z-index: 1;position: relative;background-color: white;}#sk-container-id-1 div.sk-parallel-item:first-child::after {align-self: flex-end;width: 50%;}#sk-container-id-1 div.sk-parallel-item:last-child::after {align-self: flex-start;width: 50%;}#sk-container-id-1 div.sk-parallel-item:only-child::after {width: 0;}#sk-container-id-1 div.sk-dashed-wrapped {border: 1px dashed gray;margin: 0 0.4em 0.5em 0.4em;box-sizing: border-box;padding-bottom: 0.4em;background-color: white;}#sk-container-id-1 div.sk-label label {font-family: monospace;font-weight: bold;display: inline-block;line-height: 1.2em;}#sk-container-id-1 div.sk-label-container {text-align: center;}#sk-container-id-1 div.sk-container {/* jupyter's `normalize.less` sets `[hidden] { display: none; }` but bootstrap.min.css set `[hidden] { display: none !important; }` so we also need the `!important` here to be able to override the default hidden behavior on the sphinx rendered scikit-learn.org. See: https://github.com/scikit-learn/scikit-learn/issues/21755 */display: inline-block !important;position: relative;}#sk-container-id-1 div.sk-text-repr-fallback {display: none;}</style><div id=\"sk-container-id-1\" class=\"sk-top-container\"><div class=\"sk-text-repr-fallback\"><pre>LogisticRegression()</pre><b>In a Jupyter environment, please rerun this cell to show the HTML representation or trust the notebook. <br />On GitHub, the HTML representation is unable to render, please try loading this page with nbviewer.org.</b></div><div class=\"sk-container\" hidden><div class=\"sk-item\"><div class=\"sk-estimator sk-toggleable\"><input class=\"sk-toggleable__control sk-hidden--visually\" id=\"sk-estimator-id-1\" type=\"checkbox\" checked><label for=\"sk-estimator-id-1\" class=\"sk-toggleable__label sk-toggleable__label-arrow\">LogisticRegression</label><div class=\"sk-toggleable__content\"><pre>LogisticRegression()</pre></div></div></div></div></div>"
            ]
          },
          "metadata": {},
          "execution_count": 14
        }
      ]
    },
    {
      "cell_type": "code",
      "source": [
        "# Model Random Forest\n",
        "\n",
        "rf_model = RandomForestClassifier()\n",
        "rf_model.fit(X_train, y_train)"
      ],
      "metadata": {
        "execution": {
          "iopub.status.busy": "2024-03-19T04:18:31.677547Z",
          "iopub.execute_input": "2024-03-19T04:18:31.677865Z",
          "iopub.status.idle": "2024-03-19T04:18:32.072267Z",
          "shell.execute_reply.started": "2024-03-19T04:18:31.677837Z",
          "shell.execute_reply": "2024-03-19T04:18:32.071308Z"
        },
        "trusted": true,
        "id": "xtpCRz4ugQH4",
        "outputId": "6acf702e-4463-4715-adda-9a3fe26fd44d",
        "colab": {
          "base_uri": "https://localhost:8080/",
          "height": 75
        }
      },
      "execution_count": 15,
      "outputs": [
        {
          "output_type": "execute_result",
          "data": {
            "text/plain": [
              "RandomForestClassifier()"
            ],
            "text/html": [
              "<style>#sk-container-id-2 {color: black;background-color: white;}#sk-container-id-2 pre{padding: 0;}#sk-container-id-2 div.sk-toggleable {background-color: white;}#sk-container-id-2 label.sk-toggleable__label {cursor: pointer;display: block;width: 100%;margin-bottom: 0;padding: 0.3em;box-sizing: border-box;text-align: center;}#sk-container-id-2 label.sk-toggleable__label-arrow:before {content: \"▸\";float: left;margin-right: 0.25em;color: #696969;}#sk-container-id-2 label.sk-toggleable__label-arrow:hover:before {color: black;}#sk-container-id-2 div.sk-estimator:hover label.sk-toggleable__label-arrow:before {color: black;}#sk-container-id-2 div.sk-toggleable__content {max-height: 0;max-width: 0;overflow: hidden;text-align: left;background-color: #f0f8ff;}#sk-container-id-2 div.sk-toggleable__content pre {margin: 0.2em;color: black;border-radius: 0.25em;background-color: #f0f8ff;}#sk-container-id-2 input.sk-toggleable__control:checked~div.sk-toggleable__content {max-height: 200px;max-width: 100%;overflow: auto;}#sk-container-id-2 input.sk-toggleable__control:checked~label.sk-toggleable__label-arrow:before {content: \"▾\";}#sk-container-id-2 div.sk-estimator input.sk-toggleable__control:checked~label.sk-toggleable__label {background-color: #d4ebff;}#sk-container-id-2 div.sk-label input.sk-toggleable__control:checked~label.sk-toggleable__label {background-color: #d4ebff;}#sk-container-id-2 input.sk-hidden--visually {border: 0;clip: rect(1px 1px 1px 1px);clip: rect(1px, 1px, 1px, 1px);height: 1px;margin: -1px;overflow: hidden;padding: 0;position: absolute;width: 1px;}#sk-container-id-2 div.sk-estimator {font-family: monospace;background-color: #f0f8ff;border: 1px dotted black;border-radius: 0.25em;box-sizing: border-box;margin-bottom: 0.5em;}#sk-container-id-2 div.sk-estimator:hover {background-color: #d4ebff;}#sk-container-id-2 div.sk-parallel-item::after {content: \"\";width: 100%;border-bottom: 1px solid gray;flex-grow: 1;}#sk-container-id-2 div.sk-label:hover label.sk-toggleable__label {background-color: #d4ebff;}#sk-container-id-2 div.sk-serial::before {content: \"\";position: absolute;border-left: 1px solid gray;box-sizing: border-box;top: 0;bottom: 0;left: 50%;z-index: 0;}#sk-container-id-2 div.sk-serial {display: flex;flex-direction: column;align-items: center;background-color: white;padding-right: 0.2em;padding-left: 0.2em;position: relative;}#sk-container-id-2 div.sk-item {position: relative;z-index: 1;}#sk-container-id-2 div.sk-parallel {display: flex;align-items: stretch;justify-content: center;background-color: white;position: relative;}#sk-container-id-2 div.sk-item::before, #sk-container-id-2 div.sk-parallel-item::before {content: \"\";position: absolute;border-left: 1px solid gray;box-sizing: border-box;top: 0;bottom: 0;left: 50%;z-index: -1;}#sk-container-id-2 div.sk-parallel-item {display: flex;flex-direction: column;z-index: 1;position: relative;background-color: white;}#sk-container-id-2 div.sk-parallel-item:first-child::after {align-self: flex-end;width: 50%;}#sk-container-id-2 div.sk-parallel-item:last-child::after {align-self: flex-start;width: 50%;}#sk-container-id-2 div.sk-parallel-item:only-child::after {width: 0;}#sk-container-id-2 div.sk-dashed-wrapped {border: 1px dashed gray;margin: 0 0.4em 0.5em 0.4em;box-sizing: border-box;padding-bottom: 0.4em;background-color: white;}#sk-container-id-2 div.sk-label label {font-family: monospace;font-weight: bold;display: inline-block;line-height: 1.2em;}#sk-container-id-2 div.sk-label-container {text-align: center;}#sk-container-id-2 div.sk-container {/* jupyter's `normalize.less` sets `[hidden] { display: none; }` but bootstrap.min.css set `[hidden] { display: none !important; }` so we also need the `!important` here to be able to override the default hidden behavior on the sphinx rendered scikit-learn.org. See: https://github.com/scikit-learn/scikit-learn/issues/21755 */display: inline-block !important;position: relative;}#sk-container-id-2 div.sk-text-repr-fallback {display: none;}</style><div id=\"sk-container-id-2\" class=\"sk-top-container\"><div class=\"sk-text-repr-fallback\"><pre>RandomForestClassifier()</pre><b>In a Jupyter environment, please rerun this cell to show the HTML representation or trust the notebook. <br />On GitHub, the HTML representation is unable to render, please try loading this page with nbviewer.org.</b></div><div class=\"sk-container\" hidden><div class=\"sk-item\"><div class=\"sk-estimator sk-toggleable\"><input class=\"sk-toggleable__control sk-hidden--visually\" id=\"sk-estimator-id-2\" type=\"checkbox\" checked><label for=\"sk-estimator-id-2\" class=\"sk-toggleable__label sk-toggleable__label-arrow\">RandomForestClassifier</label><div class=\"sk-toggleable__content\"><pre>RandomForestClassifier()</pre></div></div></div></div></div>"
            ]
          },
          "metadata": {},
          "execution_count": 15
        }
      ]
    },
    {
      "cell_type": "code",
      "source": [
        "# Model SVM\n",
        "\n",
        "svm_model = SVC()\n",
        "svm_model.fit(X_train, y_train)"
      ],
      "metadata": {
        "execution": {
          "iopub.status.busy": "2024-03-19T04:24:12.325174Z",
          "iopub.execute_input": "2024-03-19T04:24:12.325477Z",
          "iopub.status.idle": "2024-03-19T04:24:12.404343Z",
          "shell.execute_reply.started": "2024-03-19T04:24:12.325453Z",
          "shell.execute_reply": "2024-03-19T04:24:12.403475Z"
        },
        "trusted": true,
        "id": "lQrfd8fIgQH5",
        "outputId": "ad57736d-b189-49cd-a3c1-8706a03c328b",
        "colab": {
          "base_uri": "https://localhost:8080/",
          "height": 75
        }
      },
      "execution_count": 16,
      "outputs": [
        {
          "output_type": "execute_result",
          "data": {
            "text/plain": [
              "SVC()"
            ],
            "text/html": [
              "<style>#sk-container-id-3 {color: black;background-color: white;}#sk-container-id-3 pre{padding: 0;}#sk-container-id-3 div.sk-toggleable {background-color: white;}#sk-container-id-3 label.sk-toggleable__label {cursor: pointer;display: block;width: 100%;margin-bottom: 0;padding: 0.3em;box-sizing: border-box;text-align: center;}#sk-container-id-3 label.sk-toggleable__label-arrow:before {content: \"▸\";float: left;margin-right: 0.25em;color: #696969;}#sk-container-id-3 label.sk-toggleable__label-arrow:hover:before {color: black;}#sk-container-id-3 div.sk-estimator:hover label.sk-toggleable__label-arrow:before {color: black;}#sk-container-id-3 div.sk-toggleable__content {max-height: 0;max-width: 0;overflow: hidden;text-align: left;background-color: #f0f8ff;}#sk-container-id-3 div.sk-toggleable__content pre {margin: 0.2em;color: black;border-radius: 0.25em;background-color: #f0f8ff;}#sk-container-id-3 input.sk-toggleable__control:checked~div.sk-toggleable__content {max-height: 200px;max-width: 100%;overflow: auto;}#sk-container-id-3 input.sk-toggleable__control:checked~label.sk-toggleable__label-arrow:before {content: \"▾\";}#sk-container-id-3 div.sk-estimator input.sk-toggleable__control:checked~label.sk-toggleable__label {background-color: #d4ebff;}#sk-container-id-3 div.sk-label input.sk-toggleable__control:checked~label.sk-toggleable__label {background-color: #d4ebff;}#sk-container-id-3 input.sk-hidden--visually {border: 0;clip: rect(1px 1px 1px 1px);clip: rect(1px, 1px, 1px, 1px);height: 1px;margin: -1px;overflow: hidden;padding: 0;position: absolute;width: 1px;}#sk-container-id-3 div.sk-estimator {font-family: monospace;background-color: #f0f8ff;border: 1px dotted black;border-radius: 0.25em;box-sizing: border-box;margin-bottom: 0.5em;}#sk-container-id-3 div.sk-estimator:hover {background-color: #d4ebff;}#sk-container-id-3 div.sk-parallel-item::after {content: \"\";width: 100%;border-bottom: 1px solid gray;flex-grow: 1;}#sk-container-id-3 div.sk-label:hover label.sk-toggleable__label {background-color: #d4ebff;}#sk-container-id-3 div.sk-serial::before {content: \"\";position: absolute;border-left: 1px solid gray;box-sizing: border-box;top: 0;bottom: 0;left: 50%;z-index: 0;}#sk-container-id-3 div.sk-serial {display: flex;flex-direction: column;align-items: center;background-color: white;padding-right: 0.2em;padding-left: 0.2em;position: relative;}#sk-container-id-3 div.sk-item {position: relative;z-index: 1;}#sk-container-id-3 div.sk-parallel {display: flex;align-items: stretch;justify-content: center;background-color: white;position: relative;}#sk-container-id-3 div.sk-item::before, #sk-container-id-3 div.sk-parallel-item::before {content: \"\";position: absolute;border-left: 1px solid gray;box-sizing: border-box;top: 0;bottom: 0;left: 50%;z-index: -1;}#sk-container-id-3 div.sk-parallel-item {display: flex;flex-direction: column;z-index: 1;position: relative;background-color: white;}#sk-container-id-3 div.sk-parallel-item:first-child::after {align-self: flex-end;width: 50%;}#sk-container-id-3 div.sk-parallel-item:last-child::after {align-self: flex-start;width: 50%;}#sk-container-id-3 div.sk-parallel-item:only-child::after {width: 0;}#sk-container-id-3 div.sk-dashed-wrapped {border: 1px dashed gray;margin: 0 0.4em 0.5em 0.4em;box-sizing: border-box;padding-bottom: 0.4em;background-color: white;}#sk-container-id-3 div.sk-label label {font-family: monospace;font-weight: bold;display: inline-block;line-height: 1.2em;}#sk-container-id-3 div.sk-label-container {text-align: center;}#sk-container-id-3 div.sk-container {/* jupyter's `normalize.less` sets `[hidden] { display: none; }` but bootstrap.min.css set `[hidden] { display: none !important; }` so we also need the `!important` here to be able to override the default hidden behavior on the sphinx rendered scikit-learn.org. See: https://github.com/scikit-learn/scikit-learn/issues/21755 */display: inline-block !important;position: relative;}#sk-container-id-3 div.sk-text-repr-fallback {display: none;}</style><div id=\"sk-container-id-3\" class=\"sk-top-container\"><div class=\"sk-text-repr-fallback\"><pre>SVC()</pre><b>In a Jupyter environment, please rerun this cell to show the HTML representation or trust the notebook. <br />On GitHub, the HTML representation is unable to render, please try loading this page with nbviewer.org.</b></div><div class=\"sk-container\" hidden><div class=\"sk-item\"><div class=\"sk-estimator sk-toggleable\"><input class=\"sk-toggleable__control sk-hidden--visually\" id=\"sk-estimator-id-3\" type=\"checkbox\" checked><label for=\"sk-estimator-id-3\" class=\"sk-toggleable__label sk-toggleable__label-arrow\">SVC</label><div class=\"sk-toggleable__content\"><pre>SVC()</pre></div></div></div></div></div>"
            ]
          },
          "metadata": {},
          "execution_count": 16
        }
      ]
    },
    {
      "cell_type": "markdown",
      "source": [
        "# **Evaluasi Model**"
      ],
      "metadata": {
        "id": "pM9DRM2mgQH5"
      }
    },
    {
      "cell_type": "code",
      "source": [
        "results = []\n",
        "\n",
        "models = [\n",
        "    ('Logistic Regression', lr_model.predict(X_test)),\n",
        "    ('Random Forest', rf_model.predict(X_test)),\n",
        "    ('SVM', svm_model.predict(X_test))\n",
        "]\n",
        "\n",
        "for model_name, y_pred in models:\n",
        "    accuracy = accuracy_score(y_test, y_pred)\n",
        "    precision = precision_score(y_test, y_pred, average='weighted')\n",
        "    recall = recall_score(y_test, y_pred, average='weighted')\n",
        "    f1 = f1_score(y_test, y_pred, average='weighted')\n",
        "\n",
        "    results.append({\n",
        "        'Model': model_name,\n",
        "        'Accuracy': accuracy,\n",
        "        'Precision': precision,\n",
        "        'Recall': recall,\n",
        "        'F1 Score': f1\n",
        "    })\n",
        "\n",
        "df_results = pd.DataFrame(results)\n",
        "\n",
        "print(df_results)\n"
      ],
      "metadata": {
        "execution": {
          "iopub.status.busy": "2024-03-19T04:33:58.360883Z",
          "iopub.execute_input": "2024-03-19T04:33:58.361192Z",
          "iopub.status.idle": "2024-03-19T04:33:58.450862Z",
          "shell.execute_reply.started": "2024-03-19T04:33:58.361168Z",
          "shell.execute_reply": "2024-03-19T04:33:58.449840Z"
        },
        "trusted": true,
        "id": "3B4WZIZXgQH5",
        "outputId": "42800f85-6ca7-4919-b9a1-082c41a9c70e",
        "colab": {
          "base_uri": "https://localhost:8080/"
        }
      },
      "execution_count": 17,
      "outputs": [
        {
          "output_type": "stream",
          "name": "stdout",
          "text": [
            "                 Model  Accuracy  Precision    Recall  F1 Score\n",
            "0  Logistic Regression  0.797535   0.791900  0.797535  0.790412\n",
            "1        Random Forest  0.963028   0.953073  0.963028  0.956784\n",
            "2                  SVM  0.950704   0.939362  0.950704  0.944295\n"
          ]
        },
        {
          "output_type": "stream",
          "name": "stderr",
          "text": [
            "/usr/local/lib/python3.10/dist-packages/sklearn/metrics/_classification.py:1344: UndefinedMetricWarning: Precision is ill-defined and being set to 0.0 in labels with no predicted samples. Use `zero_division` parameter to control this behavior.\n",
            "  _warn_prf(average, modifier, msg_start, len(result))\n",
            "/usr/local/lib/python3.10/dist-packages/sklearn/metrics/_classification.py:1344: UndefinedMetricWarning: Precision is ill-defined and being set to 0.0 in labels with no predicted samples. Use `zero_division` parameter to control this behavior.\n",
            "  _warn_prf(average, modifier, msg_start, len(result))\n"
          ]
        }
      ]
    },
    {
      "cell_type": "markdown",
      "source": [
        "Berdasarkan hasil pelatihan model yang dilakukan, dapat disimpulkan bahwa:\n",
        "\n",
        "*   Model Logistik Regresi memiliki tingkat akurasi sebesar 79.75%, dengan nilai presisi sebesar 79.19%, recall sebesar 79.75%, dan nilai F1 sebesar 79.04%\n",
        "*   Model Random Forest menunjukkan tingkat akurasi tertinggi, mencapai 95.95%, dengan presisi sebesar 94.95%, recall sebesar 95.95%, dan nilai F1 sebesar 95.32%.\n",
        "*   Model Support Vector Machine (SVM) juga menunjukkan kinerja yang baik dengan tingkat akurasi sebesar 95.07%, nilai presisi sebesar 93.94%, recall sebesar 95.07%, dan nilai F1 sebesar 94.43%.\n",
        "\n",
        "Dari kesimpulan tersebut, dapat disimpulkan bahwa Model Random Forest memiliki kinerja terbaik dalam hal akurasi dibandingkan dengan model Logistik Regresi dan SVM."
      ],
      "metadata": {
        "id": "_PV6CCeQoI76"
      }
    }
  ]
}